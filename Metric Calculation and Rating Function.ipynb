{
 "cells": [
  {
   "cell_type": "code",
   "execution_count": 1,
   "metadata": {},
   "outputs": [],
   "source": [
    "import numpy as np\n",
    "import pandas as pd\n",
    "import matplotlib.pyplot as plt\n",
    "import yfinance as yf\n",
    "from datetime import datetime"
   ]
  },
  {
   "cell_type": "code",
   "execution_count": 2,
   "metadata": {},
   "outputs": [
    {
     "name": "stderr",
     "output_type": "stream",
     "text": [
      "[*********************100%%**********************]  1 of 1 completed\n"
     ]
    }
   ],
   "source": [
    "x = input(\"Enter a Stock Ticker\")\n",
    "df = yf.download(x)\n",
    "today = datetime.today()\n",
    "today = today.strftime(\"%Y %m %d\")\n",
    "#Make sure the the ranged entered is at least a year long\n",
    "df = df.loc[\"2023-01-01\":today].copy()\n",
    "upper = 200\n",
    "lower = 100"
   ]
  },
  {
   "cell_type": "code",
   "execution_count": 3,
   "metadata": {},
   "outputs": [],
   "source": [
    "df = df.drop(['Adj Close'], axis=1)\n",
    "df['maLow'] = df.Close.rolling(lower).mean()\n",
    "df['maHigh'] = df.Close.rolling(upper).mean()"
   ]
  },
  {
   "cell_type": "code",
   "execution_count": 4,
   "metadata": {},
   "outputs": [],
   "source": [
    "df['ema_short'] = df['Close'].ewm(span=lower, adjust=False).mean()\n",
    "df['ema_long'] = df['Close'].ewm(span=upper, adjust=False).mean()"
   ]
  },
  {
   "cell_type": "code",
   "execution_count": 5,
   "metadata": {},
   "outputs": [
    {
     "name": "stdout",
     "output_type": "stream",
     "text": [
      "71.963%\n"
     ]
    }
   ],
   "source": [
    "def rating():\n",
    "\n",
    "    SMAdistancePercent = df['maLow'].iloc[-1] / df['maHigh'].iloc[-1]\n",
    "    SMAdistancePercentFactor = SMAdistancePercent / 1.15\n",
    "\n",
    "    EMAdistancePercent = df['ema_short'].iloc[-1] / df['ema_long'].iloc[-1]\n",
    "    EMAdistancePercentFactor = EMAdistancePercent / 1.1\n",
    "\n",
    "    PriceTrend = 0\n",
    "    if(df['Close'].iloc[-252] < df['Close'].iloc[-1]):\n",
    "        PriceTrend += 0.25\n",
    "    if(df['Close'].iloc[-126] < df['Close'].iloc[-1]):\n",
    "        PriceTrend += 0.25\n",
    "    if(df['Close'].iloc[-28] < df['Close'].iloc[-1]):\n",
    "        PriceTrend += 0.25\n",
    "    if(df['Close'].iloc[-5] < df['Close'].iloc[-1]):\n",
    "        PriceTrend += 0.25\n",
    "\n",
    "\n",
    "    dy = np.gradient(df['ema_short'])\n",
    "    EMALowTrend = 0\n",
    "\n",
    "    if(dy[-1] > dy[-5]):\n",
    "        EMALowTrend += 0.4\n",
    "    if(dy[-1] > dy[-28]):\n",
    "        EMALowTrend += 0.3\n",
    "    if(dy[-1] > dy[126]):\n",
    "        EMALowTrend += 0.2\n",
    "    if(dy[-1] > 0):\n",
    "        EMALowTrend += 0.1\n",
    "\n",
    "\n",
    "\n",
    "    dySMA = np.gradient(df['maLow'])\n",
    "    SMALowTrend = 0\n",
    "\n",
    "    if(dySMA[-1] > dySMA[-5]):\n",
    "        SMALowTrend += 0.4\n",
    "    if(dySMA[-1] > dySMA[-28]):\n",
    "        SMALowTrend += 0.3\n",
    "    if(dySMA[-1] > dySMA[126]):\n",
    "        SMALowTrend += 0.2\n",
    "    if(dySMA[-1] > 0):\n",
    "        SMALowTrend += 0.1\n",
    "\n",
    "    currentBelowShorter = 0\n",
    "    if(df['Close'].iloc[-1] > df['maLow'].iloc[-1]):\n",
    "        currentBelowShorter += 0.5\n",
    "\n",
    "    if(df['Close'].iloc[-1] > df['ema_short'].iloc[-1]):\n",
    "        currentBelowShorter += 0.5\n",
    "\n",
    "\n",
    "    currentBelowLonger = 0\n",
    "    if(df['Close'].iloc[-1] > df['maHigh'].iloc[-1]):\n",
    "        currentBelowLonger += 0.5\n",
    "\n",
    "    if(df['Close'].iloc[-1] > df['ema_long'].iloc[-1]):\n",
    "        currentBelowLonger += 0.5\n",
    "\n",
    "    FinalStockRating = SMAdistancePercentFactor * 0.2 + EMAdistancePercentFactor * 0.2 + PriceTrend * 0.2 + SMALowTrend * 0.1 + EMALowTrend * 0.1 + currentBelowShorter * 0.1 + currentBelowLonger * 0.1\n",
    "    return FinalStockRating\n",
    "\n",
    "buyRating = str(round(rating() * 100, 3)) + \"%\"\n",
    "\n",
    "print(buyRating)"
   ]
  }
 ],
 "metadata": {
  "kernelspec": {
   "display_name": "Python 3",
   "language": "python",
   "name": "python3"
  },
  "language_info": {
   "codemirror_mode": {
    "name": "ipython",
    "version": 3
   },
   "file_extension": ".py",
   "mimetype": "text/x-python",
   "name": "python",
   "nbconvert_exporter": "python",
   "pygments_lexer": "ipython3",
   "version": "3.12.3"
  }
 },
 "nbformat": 4,
 "nbformat_minor": 2
}
