{
 "cells": [
  {
   "cell_type": "code",
   "execution_count": 1,
   "metadata": {},
   "outputs": [
    {
     "name": "stderr",
     "output_type": "stream",
     "text": [
      "c:\\Users\\smaya\\AppData\\Local\\Programs\\Python\\Python312\\Lib\\site-packages\\tqdm\\auto.py:21: TqdmWarning: IProgress not found. Please update jupyter and ipywidgets. See https://ipywidgets.readthedocs.io/en/stable/user_install.html\n",
      "  from .autonotebook import tqdm as notebook_tqdm\n"
     ]
    },
    {
     "name": "stdout",
     "output_type": "stream",
     "text": [
      "## 3 Reasons to Buy AAPL Stock:\n",
      "\n",
      "1. **Strong Brand Power & Ecosystem:** Apple boasts one of the strongest brand loyalties in the world, with a vast ecosystem of hardware, software, and services that are tightly integrated and highly coveted. This creates a strong barrier to entry for competitors and ensures consistent demand for their products.\n",
      "2. **Growth in Services & Subscription Businesses:** Beyond hardware, Apple has successfully transitioned into a services powerhouse, offering subscription-based revenue streams like Apple Music, Apple TV+, iCloud, and AppleCare. These services are recurring revenue generators, providing a more stable and predictable income stream for the company. \n",
      "3. **Innovation & Future Potential:** Apple consistently pushes the boundaries of innovation, with new products and services like the Apple Watch, AirPods, and augmented reality experiences. This dedication to R&D ensures a pipeline of future growth opportunities and reinforces their position as a leading technology company. \n",
      "\n"
     ]
    }
   ],
   "source": [
    "from dotenv import load_dotenv\n",
    "import os\n",
    "\n",
    "load_dotenv()\n",
    "api_key = os.getenv('API_KEY')\n",
    "\n",
    "import google.generativeai as genai\n",
    "\n",
    "genai.configure(api_key=os.getenv('API_KEY'))\n",
    "\n",
    "model = genai.GenerativeModel('gemini-1.5-flash')\n",
    "response = model.generate_content(\"3 Reasons to Buy AAPL Stock(Do not include the disclaimer\")\n",
    "print(response.text)\n"
   ]
  }
 ],
 "metadata": {
  "kernelspec": {
   "display_name": "Python 3",
   "language": "python",
   "name": "python3"
  },
  "language_info": {
   "codemirror_mode": {
    "name": "ipython",
    "version": 3
   },
   "file_extension": ".py",
   "mimetype": "text/x-python",
   "name": "python",
   "nbconvert_exporter": "python",
   "pygments_lexer": "ipython3",
   "version": "3.12.3"
  }
 },
 "nbformat": 4,
 "nbformat_minor": 2
}
